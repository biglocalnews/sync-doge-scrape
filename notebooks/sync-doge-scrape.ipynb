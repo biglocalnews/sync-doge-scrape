{
 "cells": [
  {
   "cell_type": "code",
   "execution_count": null,
   "id": "ee5ff346-a54e-4169-bf54-9e6b22380d9e",
   "metadata": {},
   "outputs": [],
   "source": [
    "# Look for new data in https://github.com/m-nolan/doge-scraper/data and upload anything missing to Big Local News"
   ]
  },
  {
   "cell_type": "code",
   "execution_count": null,
   "id": "517637f6-6f7d-4cbd-a041-ad4f78016e75",
   "metadata": {},
   "outputs": [],
   "source": [
    "import json\n",
    "import os\n",
    "import sys\n",
    "from time import sleep\n",
    "from urllib.parse import urlparse\n",
    "\n",
    "from bln import Client\n",
    "import requests\n",
    "from tqdm import tqdm"
   ]
  },
  {
   "cell_type": "code",
   "execution_count": null,
   "id": "0d5ef635-0f1e-4f98-a6d8-4854ff605940",
   "metadata": {},
   "outputs": [],
   "source": [
    "starturl = \"https://github.com/m-nolan/doge-scrape/data\"    # Change this if you want to grab another folder. This URL should NOT actually work."
   ]
  },
  {
   "cell_type": "code",
   "execution_count": null,
   "id": "41010000-6854-4722-b444-c83acb693604",
   "metadata": {},
   "outputs": [],
   "source": [
    "project_id = \"UHJvamVjdDo2NzkxYTJmNi0wNTNmLTQzMTEtYjE5Yy03MTc3MzFmMGUwZDY=\"    # BLN platform ID"
   ]
  },
  {
   "cell_type": "code",
   "execution_count": null,
   "id": "a7106404-c0ad-40eb-8606-c88000d1e349",
   "metadata": {},
   "outputs": [],
   "source": [
    "datadir = \"data/\"\n",
    "\n",
    "os.makedirs(datadir, exist_ok=True)"
   ]
  },
  {
   "cell_type": "code",
   "execution_count": null,
   "id": "e932b97f-0ba7-458c-8b5d-d2e52c4ec371",
   "metadata": {},
   "outputs": [],
   "source": [
    "pathchunks = urlparse(starturl).path.split(\"/\")\n",
    "pathstart = \"/\".join(pathchunks[0:3])\n",
    "pathmiddle = \"/tree/main/\"\n",
    "pathend = \"/\".join(pathchunks[3:])\n",
    "# folderurl = urlparse(starturl).scheme + urlparse(starturl).netloc + pathstart + pathmiddle + pathend\n",
    "folderurl = urlparse(starturl)._replace(path=pathstart + pathmiddle + pathend).geturl()\n",
    "print(f\"From {starturl} we are actually looking to scrape {folderurl}\")"
   ]
  },
  {
   "cell_type": "raw",
   "id": "9a0ca943-91ab-4e4c-bced-9cff0a50e066",
   "metadata": {},
   "source": [
    "# No longer works\n",
    "\n",
    "fileswanted = set()\n",
    "r = requests.get(folderurl)\n",
    "for holder in pq(r.content)(\"div.react-directory-filename-cell\"):\n",
    "    for link in pq(holder)(\"a\"):\n",
    "        fileswanted.add(pq(link)(\"a\").attr(\"title\"))\n",
    "print(f\"Seeking {' ... '.join(fileswanted)}\")"
   ]
  },
  {
   "cell_type": "code",
   "execution_count": null,
   "id": "cc7d1e27-4ca7-4389-8994-bdd7e5dc580b",
   "metadata": {},
   "outputs": [],
   "source": [
    "fileswanted = set()\n",
    "r = requests.get(folderurl)\n",
    "html = r.text\n",
    "script = html.split('data-target=\"react-app.embeddedData\">')[1].split(\"</script>\")[0]\n",
    "rawdata = json.loads(script)\n",
    "for entry in rawdata['payload']['tree']['items']:\n",
    "    fileswanted.add(entry['name'])\n",
    "print(f\"Seeking {' ... '.join(fileswanted)}\")"
   ]
  },
  {
   "cell_type": "code",
   "execution_count": null,
   "id": "265e3a8d-35c2-495a-9de8-2bf3342d2845",
   "metadata": {},
   "outputs": [],
   "source": [
    "versionedfiles = {}\n",
    "\n",
    "# https://api.github.com/repos/m-nolan/doge-scrape/commits?path=/data/\n",
    "baseurl = urlparse(starturl)._replace(netloc=\"api.github.com\", path=\"/repos\" + \"/\".join(pathchunks[0:3]) + \"/commits?path=/\" + \"/\".join(pathchunks[3:]) + \"/\").geturl()\n",
    "for filewanted in fileswanted:\n",
    "    targeturl = baseurl + filewanted\n",
    "    r = requests.get(targeturl)\n",
    "    \n",
    "    for entry in r.json():\n",
    "        targetpath = \"/\".join(pathchunks[0:3]) + \"/raw/\" + entry['sha'] + \"/\" + \"/\".join(pathchunks[3:]) + \"/\" + filewanted\n",
    "        targeturl = urlparse(starturl)._replace(path=targetpath).geturl()\n",
    "        targetfilename = filewanted.split(\".\")[0] + \"_\"\n",
    "        targetfilename += entry['commit']['committer']['date'].replace(\":\", \"\").replace(\"Z\", \"\")\n",
    "        if len(filewanted.split(\".\")) > 1:\n",
    "            targetfilename += \".\"\n",
    "            targetfilename += \".\".join(filewanted.split(\".\")[1:])\n",
    "        versionedfiles[targetfilename] = targeturl   "
   ]
  },
  {
   "cell_type": "code",
   "execution_count": null,
   "id": "1e6a4378-8f30-4834-8048-0a830fa72a7d",
   "metadata": {},
   "outputs": [],
   "source": [
    "bln_api = os.environ[\"BLN_API_TOKEN\"]\n",
    "bln = Client(bln_api)\n",
    "project = bln.get_project_by_id(project_id)\n",
    "\n",
    "files_to_send = {}\n",
    "\n",
    "# Get all the files in the project.\n",
    "archived_files = {}\n",
    "for f in project[\"files\"]:\n",
    "    archived_files[f[\"name\"]] = f[\"updatedAt\"]\n",
    "\n",
    "for versionedfile in versionedfiles:\n",
    "    if versionedfile not in archived_files:\n",
    "        files_to_send[versionedfile] = versionedfiles[versionedfile]\n",
    "\n",
    "if len(files_to_send) == 0:\n",
    "    print(\"No files found to be sent.\")\n",
    "    sys.exit()\n",
    "else:\n",
    "    print(f\"{len(files_to_send):,} files to be sent to BLN, and likely that many to download here first.\")"
   ]
  },
  {
   "cell_type": "code",
   "execution_count": null,
   "id": "a8594796-f432-4700-b96f-f4343423fadc",
   "metadata": {},
   "outputs": [],
   "source": [
    "for file_to_send in tqdm(files_to_send):\n",
    "    # Get the file if it's not already here\n",
    "    if os.path.exists(datadir + file_to_send):\n",
    "        got_file = True\n",
    "    else:\n",
    "        got_file = False\n",
    "        localurl = files_to_send[file_to_send]\n",
    "        r = requests.get(localurl)\n",
    "        if not r.ok:\n",
    "            print(f\"Failure downloading {localurl}\")\n",
    "        else:\n",
    "            got_file = True\n",
    "            with open(datadir + file_to_send, \"wb\") as outfile:\n",
    "                outfile.write(r.content)\n",
    "    if got_file:\n",
    "        bln.upload_file(project_id, datadir + file_to_send)\n",
    "    sleep(1)"
   ]
  },
  {
   "cell_type": "code",
   "execution_count": null,
   "id": "780c4ec9-ea00-47f3-a695-2810e700c48c",
   "metadata": {},
   "outputs": [],
   "source": []
  },
  {
   "cell_type": "code",
   "execution_count": null,
   "id": "a7686dfa-acb2-4fab-a895-30047ed3be8d",
   "metadata": {},
   "outputs": [],
   "source": []
  }
 ],
 "metadata": {
  "kernelspec": {
   "display_name": "Python 3 (ipykernel)",
   "language": "python",
   "name": "python3"
  },
  "language_info": {
   "codemirror_mode": {
    "name": "ipython",
    "version": 3
   },
   "file_extension": ".py",
   "mimetype": "text/x-python",
   "name": "python",
   "nbconvert_exporter": "python",
   "pygments_lexer": "ipython3",
   "version": "3.13.2"
  }
 },
 "nbformat": 4,
 "nbformat_minor": 5
}
